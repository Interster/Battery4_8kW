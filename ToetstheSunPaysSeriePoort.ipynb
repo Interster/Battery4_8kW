{
 "cells": [
  {
   "cell_type": "code",
   "execution_count": 119,
   "metadata": {},
   "outputs": [
    {
     "output_type": "error",
     "ename": "ModuleNotFoundError",
     "evalue": "No module named 'serial'",
     "traceback": [
      "\u001b[1;31m---------------------------------------------------------------------------\u001b[0m",
      "\u001b[1;31mModuleNotFoundError\u001b[0m                       Traceback (most recent call last)",
      "\u001b[1;32m<ipython-input-119-a15fdee359ae>\u001b[0m in \u001b[0;36m<module>\u001b[1;34m\u001b[0m\n\u001b[0;32m      1\u001b[0m \u001b[1;31m# Toets basiese skryf na die seriepoort\u001b[0m\u001b[1;33m\u001b[0m\u001b[1;33m\u001b[0m\u001b[1;33m\u001b[0m\u001b[0m\n\u001b[1;32m----> 2\u001b[1;33m \u001b[1;32mimport\u001b[0m \u001b[0mserial\u001b[0m\u001b[1;33m\u001b[0m\u001b[1;33m\u001b[0m\u001b[0m\n\u001b[0m\u001b[0;32m      3\u001b[0m \u001b[0mser\u001b[0m \u001b[1;33m=\u001b[0m \u001b[0mserial\u001b[0m\u001b[1;33m.\u001b[0m\u001b[0mSerial\u001b[0m\u001b[1;33m(\u001b[0m\u001b[1;34m'/dev/ttyUSB0'\u001b[0m\u001b[1;33m)\u001b[0m  \u001b[1;31m# open serial port\u001b[0m\u001b[1;33m\u001b[0m\u001b[1;33m\u001b[0m\u001b[0m\n\u001b[0;32m      4\u001b[0m \u001b[0mprint\u001b[0m\u001b[1;33m(\u001b[0m\u001b[0mser\u001b[0m\u001b[1;33m.\u001b[0m\u001b[0mname\u001b[0m\u001b[1;33m)\u001b[0m         \u001b[1;31m# check which port was really used\u001b[0m\u001b[1;33m\u001b[0m\u001b[1;33m\u001b[0m\u001b[0m\n\u001b[0;32m      5\u001b[0m \u001b[1;31m#ser.write(b'hello')     # write a string\u001b[0m\u001b[1;33m\u001b[0m\u001b[1;33m\u001b[0m\u001b[1;33m\u001b[0m\u001b[0m\n",
      "\u001b[1;31mModuleNotFoundError\u001b[0m: No module named 'serial'"
     ]
    }
   ],
   "source": [
    "# Toets basiese skryf na die seriepoort\n",
    "import serial\n",
    "ser = serial.Serial('/dev/ttyUSB0')  # open serial port\n",
    "print(ser.name)         # check which port was really used\n",
    "#ser.write(b'hello')     # write a string\n",
    "ser.close()             # close port"
   ]
  },
  {
   "cell_type": "code",
   "execution_count": 120,
   "metadata": {},
   "outputs": [
    {
     "output_type": "error",
     "ename": "NameError",
     "evalue": "name 'serial' is not defined",
     "traceback": [
      "\u001b[1;31m---------------------------------------------------------------------------\u001b[0m",
      "\u001b[1;31mNameError\u001b[0m                                 Traceback (most recent call last)",
      "\u001b[1;32m<ipython-input-120-8ff5a9cfaf8c>\u001b[0m in \u001b[0;36m<module>\u001b[1;34m\u001b[0m\n\u001b[0;32m      1\u001b[0m \u001b[1;31m# Probeer 1200 baud en 115200\u001b[0m\u001b[1;33m\u001b[0m\u001b[1;33m\u001b[0m\u001b[1;33m\u001b[0m\u001b[0m\n\u001b[1;32m----> 2\u001b[1;33m \u001b[1;32mwith\u001b[0m \u001b[0mserial\u001b[0m\u001b[1;33m.\u001b[0m\u001b[0mSerial\u001b[0m\u001b[1;33m(\u001b[0m\u001b[1;34m'/dev/ttyUSB0'\u001b[0m\u001b[1;33m,\u001b[0m \u001b[1;36m1200\u001b[0m\u001b[1;33m,\u001b[0m \u001b[0mtimeout\u001b[0m\u001b[1;33m=\u001b[0m\u001b[1;36m1\u001b[0m\u001b[1;33m)\u001b[0m \u001b[1;32mas\u001b[0m \u001b[0mser\u001b[0m\u001b[1;33m:\u001b[0m\u001b[1;33m\u001b[0m\u001b[1;33m\u001b[0m\u001b[0m\n\u001b[0m\u001b[0;32m      3\u001b[0m     \u001b[0mx\u001b[0m \u001b[1;33m=\u001b[0m \u001b[0mser\u001b[0m\u001b[1;33m.\u001b[0m\u001b[0mread\u001b[0m\u001b[1;33m(\u001b[0m\u001b[1;33m)\u001b[0m          \u001b[1;31m# read one byte\u001b[0m\u001b[1;33m\u001b[0m\u001b[1;33m\u001b[0m\u001b[0m\n\u001b[0;32m      4\u001b[0m     \u001b[0ms\u001b[0m \u001b[1;33m=\u001b[0m \u001b[0mser\u001b[0m\u001b[1;33m.\u001b[0m\u001b[0mread\u001b[0m\u001b[1;33m(\u001b[0m\u001b[1;36m10\u001b[0m\u001b[1;33m)\u001b[0m        \u001b[1;31m# read up to ten bytes (timeout)\u001b[0m\u001b[1;33m\u001b[0m\u001b[1;33m\u001b[0m\u001b[0m\n\u001b[0;32m      5\u001b[0m     \u001b[1;31m#line = ser.readline()   # read a '\\n' terminated line\u001b[0m\u001b[1;33m\u001b[0m\u001b[1;33m\u001b[0m\u001b[1;33m\u001b[0m\u001b[0m\n",
      "\u001b[1;31mNameError\u001b[0m: name 'serial' is not defined"
     ]
    }
   ],
   "source": [
    "# Probeer 1200 baud en 115200\n",
    "with serial.Serial('/dev/ttyUSB0', 1200, timeout=1) as ser:\n",
    "    x = ser.read()          # read one byte\n",
    "    s = ser.read(10)        # read up to ten bytes (timeout)\n",
    "    #line = ser.readline()   # read a '\\n' terminated line\n",
    "    \n",
    "print(s)"
   ]
  },
  {
   "cell_type": "code",
   "execution_count": 121,
   "metadata": {},
   "outputs": [],
   "source": [
    "# Deel die heks uitstring op in die dele wat die data bevat soos \n",
    "# die hoeveelheid energie oor in battery\n",
    "\n",
    "\n",
    "def twos_complement(hexstr,bits):\n",
    "    # Verander die heksadesimale getal na 'n heelgetal met 'n teken oftewel 'n \"signed integer\"\n",
    "    # In 'n n-greep twee komplement getallevoorstelling, het die grepe die waardes:\n",
    "    # greep 0 = 2^0\n",
    "    # bit 1 = 2^1\n",
    "    # bit n-2 = -2^(n-2)\n",
    "    # bit n-1 = -2n-1\n",
    "    #\n",
    "    # Maar greep n-1 het waarde 2^(n-1) wanneer dit geen teken het nie, dus is die getal 2^n te hoog.\n",
    "    # Trek dus 2^n af indien greep n-1 'n waarde het\n",
    "\n",
    "    value = int(hexstr,16)\n",
    "    if value & (1 << (bits-1)):\n",
    "        value -= 1 << bits\n",
    "    \n",
    "    return value\n",
    "\n",
    "def wysHeksString(insetstring):\n",
    "    print('Heksadesimale ASCII waarde')\n",
    "    print(insetstring)\n",
    "    print('Heksadesimale string')\n",
    "    getalinheks = bytearray.fromhex(insetstring).decode()\n",
    "    print(getalinheks)\n",
    "    print('Desimale string')\n",
    "    print(int(getalinheks, 16))\n",
    "    \n",
    "    return 0\n",
    "\n",
    "def uitsetGetalHeksString(insetstring):\n",
    "    # Neem die insetstring van die battery ontvang en kry die ASCII waarde daarvan\n",
    "    getalinheks = bytearray.fromhex(insetstring).decode()\n",
    "    # getalinheks word nou omgeskakel na 'n desimale waarde wat gebruik kan word.\n",
    "    uitsetgetal = int(getalinheks, 16)\n",
    "    \n",
    "    return uitsetgetal\n",
    "\n",
    "def uitsetGetalHeksStringSignInt(insetstring):\n",
    "    # Neem die insetstring van die battery ontvang en kry die ASCII waarde daarvan\n",
    "    getalinheks = bytearray.fromhex(insetstring).decode()\n",
    "    # getalinheks word nou omgeskakel na 'n desimale waarde wat gebruik kan word.\n",
    "    uitsetgetal = twos_complement(getalinheks, 16)\n",
    "    \n",
    "    return uitsetgetal\n",
    "\n",
    "\n",
    "def skryfLogLynBattery(leesvanbattery):\n",
    "    a = leesvanbattery\n",
    "    \n",
    "    #Stroom in milliAmpere/100.  Dus vermenigvuldig met 100 en deel deur 1000 om Ampere te kry\n",
    "    stroom = uitsetGetalHeksStringSignInt(a[-78:-70])\n",
    "    #Spanning in milliVolt van hele battery\n",
    "    spanning = uitsetGetalHeksString(a[-70:-62])\n",
    "    #Oorblywende energie in battery\n",
    "    energieOor = uitsetGetalHeksString(a[-62:-54])\n",
    "    # Totale energie in battery\n",
    "    energietotaal = uitsetGetalHeksString(a[-50:-42])\n",
    "    # Siklusse\n",
    "    siklusse = uitsetGetalHeksString(a[-42:-34])\n",
    "        \n",
    "    uitsetloglyn = str(stroom) + ',' + str(spanning) + ',' + str(energieOor) + ',' + str(energietotaal) + ',' + str(siklusse)\n",
    "    \n",
    "    return uitsetloglyn"
   ]
  },
  {
   "cell_type": "code",
   "execution_count": 122,
   "metadata": {},
   "outputs": [
    {
     "output_type": "error",
     "ename": "NameError",
     "evalue": "name 'serial' is not defined",
     "traceback": [
      "\u001b[1;31m---------------------------------------------------------------------------\u001b[0m",
      "\u001b[1;31mNameError\u001b[0m                                 Traceback (most recent call last)",
      "\u001b[1;32m<ipython-input-122-2de3bd38b69c>\u001b[0m in \u001b[0;36m<module>\u001b[1;34m\u001b[0m\n\u001b[0;32m      5\u001b[0m \u001b[1;33m\u001b[0m\u001b[0m\n\u001b[0;32m      6\u001b[0m \u001b[1;31m# Stuur data 1200 baud.  Dit moet eers teen hierdie spoed gestuur word\u001b[0m\u001b[1;33m\u001b[0m\u001b[1;33m\u001b[0m\u001b[1;33m\u001b[0m\u001b[0m\n\u001b[1;32m----> 7\u001b[1;33m \u001b[1;32mwith\u001b[0m \u001b[0mserial\u001b[0m\u001b[1;33m.\u001b[0m\u001b[0mSerial\u001b[0m\u001b[1;33m(\u001b[0m\u001b[1;34m'/dev/ttyUSB0'\u001b[0m\u001b[1;33m,\u001b[0m \u001b[1;36m1200\u001b[0m\u001b[1;33m,\u001b[0m \u001b[0mtimeout\u001b[0m\u001b[1;33m=\u001b[0m\u001b[1;36m5.0\u001b[0m\u001b[1;33m)\u001b[0m \u001b[1;32mas\u001b[0m \u001b[0mser\u001b[0m\u001b[1;33m:\u001b[0m\u001b[1;33m\u001b[0m\u001b[1;33m\u001b[0m\u001b[0m\n\u001b[0m\u001b[0;32m      8\u001b[0m     \u001b[0mx\u001b[0m \u001b[1;33m=\u001b[0m \u001b[0mser\u001b[0m\u001b[1;33m.\u001b[0m\u001b[0mwrite\u001b[0m\u001b[1;33m(\u001b[0m\u001b[0munhexlify\u001b[0m\u001b[1;33m(\u001b[0m\u001b[0mbytestosend\u001b[0m\u001b[1;33m)\u001b[0m\u001b[1;33m)\u001b[0m \u001b[1;31m# Stuur opdrag na die battery\u001b[0m\u001b[1;33m\u001b[0m\u001b[1;33m\u001b[0m\u001b[0m\n\u001b[0;32m      9\u001b[0m \u001b[1;33m\u001b[0m\u001b[0m\n",
      "\u001b[1;31mNameError\u001b[0m: name 'serial' is not defined"
     ]
    }
   ],
   "source": [
    "from binascii import unhexlify\n",
    "\n",
    "# Opdrag vanaf paragraaf 5 in seriepoort handleiding\n",
    "bytestosend = '7E3230303134363432453030323031464433350D'\n",
    "\n",
    "# Stuur data 1200 baud.  Dit moet eers teen hierdie spoed gestuur word\n",
    "with serial.Serial('/dev/ttyUSB0', 1200, timeout=5.0) as ser:\n",
    "    x = ser.write(unhexlify(bytestosend)) # Stuur opdrag na die battery\n",
    "    \n",
    "    uitstring = ser.read(1000)\n",
    "\n",
    "# Druk die greepstring (bytestring)\n",
    "print('Greepstring')\n",
    "print(uitstring)\n",
    "\n",
    "# Skakel die greepstring om na heksadesimale string\n",
    "print('Heksadesimale string')\n",
    "a = uitstring.hex()\n",
    "print(a)    \n",
    "\n",
    "print(skryfLogLynBattery(a))"
   ]
  },
  {
   "cell_type": "code",
   "execution_count": 123,
   "metadata": {
    "tags": []
   },
   "outputs": [
    {
     "output_type": "stream",
     "name": "stdout",
     "text": "Aantal siklusse\nHeksadesimale ASCII waarde\n31304531\nHeksadesimale string\n10E1\nDesimale string\n4321\nTotale energie\nHeksadesimale ASCII waarde\n32313130\nHeksadesimale string\n2110\nDesimale string\n8464\n"
    },
    {
     "output_type": "execute_result",
     "data": {
      "text/plain": "0"
     },
     "metadata": {},
     "execution_count": 123
    }
   ],
   "source": [
    "print('Aantal siklusse')\n",
    "#31313030313231\n",
    "#31304532\n",
    "wysHeksString(a[-14:-6])\n",
    "print('Totale energie')\n",
    "wysHeksString(a[-18:-10])\n",
    "\n",
    "#getalinheks = bytearray.fromhex(\"42463638\").decode()\n",
    "#print(getalinheks)\n",
    "#print(int(getalinheks, 16))"
   ]
  },
  {
   "cell_type": "code",
   "execution_count": 124,
   "metadata": {},
   "outputs": [
    {
     "output_type": "error",
     "ename": "SyntaxError",
     "evalue": "invalid syntax (<ipython-input-124-801d43c0c44c>, line 1)",
     "traceback": [
      "\u001b[1;36m  File \u001b[1;32m\"<ipython-input-124-801d43c0c44c>\"\u001b[1;36m, line \u001b[1;32m1\u001b[0m\n\u001b[1;33m    Pylontech voorbeeld uit handleiding\u001b[0m\n\u001b[1;37m              ^\u001b[0m\n\u001b[1;31mSyntaxError\u001b[0m\u001b[1;31m:\u001b[0m invalid syntax\n"
     ]
    }
   ],
   "source": [
    " Pylontech voorbeeld uit handleiding\n",
    "\n",
    "`7E` - Begin inligting\n",
    "`32 30` - Weergawe \n",
    "`30 31` - Adres \n",
    "`34 36` - Kode vir litium battery\n",
    "`30 30` - RTN Return kode 30 30 is 00 is alles het vlot verloop \n",
    "`43 30 36 45` - Lengte of LEN is die lengte van die data (met CHKSUM ingesluit) \n",
    "`31 31 30 31` - INFOFLAG\n",
    "\n",
    "Data begin\n",
    "`30 46` - Aantal selle\n",
    "30 44 34 35 - Sel 1 Volts\n",
    "30 44 34 34 \n",
    "30 44 34 35 \n",
    "30 44 34 34 30 44 34 35 30 44 34\n",
    "34 30 44 33 45 30 44 34 35 30 44 34 41 30 44 34 41 30 44 34 42 30 44 34\n",
    "41 30 44 34 41 30 44 34 41 30 44 34 41 30 35 30 42 43 33 30 42 43 33 30\n",
    "42 43 33 30 42 43 44 30 42 43 44 30 30 30 30 43 37 32 35 42 46 36 38 30\n",
    "32 \n",
    "`43 33 35 30` - Totale energie (mAh) \n",
    "`30 30 30 32` - Aantal siklusse\n",
    "`45 35 35 33` - Toetssom of CHKSUM\n",
    "`0D` - Einde van inligting\n",
    "\n",
    "# Voorbeeld uitset\n",
    "`7e` - Begin inligting  \n",
    "`32 30` - Weergawe  \n",
    "`30 31` - Adres  \n",
    "`34 36` - Kode vir litium battery  \n",
    "`30 30` - RTN Return kode 30 30 is 00 is alles het vlot verloop  \n",
    "`46 30 37 41` - Lengte  \n",
    "`31 31 30 31` - INFOFLAG  \n",
    "\n",
    "Data begin  \n",
    "`30 46` - Aantal selle (15)  \n",
    "`30 44 45 32` - Sel 1 Volts  \n",
    "`30444532` - Sel 2 Volts  \n",
    "`30444430` - Sel 3 Volts  \n",
    "`30444533` - Sel 4 Volts  \n",
    "`30444533` - Sel 5 Volts  \n",
    "`30444534` - Sel 6 Volts  \n",
    "`30444532` - Sel 7 Volts  \n",
    "`30444531` - Sel 8 Volts  \n",
    "`30444538` - Sel 9 Volts  \n",
    "`30444537` - Sel 10 Volts  \n",
    "`30444444` - Sel 11 Volts  \n",
    "`30444537` - Sel 12 Volts  \n",
    "`30444538` - Sel 13 Volts  \n",
    "`30444537` - Sel 14 Volts  \n",
    "`30444537` - Sel 15 Volts   \n",
    "`30 35` - Aantal Temperatuur meetpunte  \n",
    "`30424542` - Temperatuur 1  \n",
    "`30424333` - Temperatuur 2  \n",
    "`30424333` - Temperatuur 3  \n",
    "`30424333` - Temperatuur 4  \n",
    "`30424333` - Temperatuur 5 in Kelvin maal 10, dus is hierdie waarde van 3011 -> 301.1 Kelvin oftewel 28.1 grade Celcius.  \n",
    "\n",
    "Stroom en spanning data:  \n",
    "`30303030` - Stroom in milliAmpere  \n",
    "`44303441` - Spanning in milliVolt van hele battery (53322mV of 53.3V)  \n",
    "`46464646` - Oorblywende energie in battery (65535mAh).  Hierdie battery is 100% vol of SOC = 100% as jy hierdie waarde deur die totale energie in battery deel.  \n",
    "`3034` - \"User-defined\" waarde.  In hierdie geval 4  \n",
    "`46464646` - Totale energie in battery (65535mAh)  \n",
    "`30303130` - Aantal siklusse van battery.  Die battery het al 16 volle siklusse gedoen.  \n",
    "\n",
    "`303132313130303132313130` - Ekstra info  \n",
    "`45323130` - Checksum  \n",
    "`0d` - Einde van inligting  "
   ]
  },
  {
   "cell_type": "code",
   "execution_count": 125,
   "metadata": {
    "tags": []
   },
   "outputs": [
    {
     "output_type": "stream",
     "name": "stdout",
     "text": "Heksadesimale ASCII waarde\n30303130\nHeksadesimale string\n0010\nDesimale string\n16\n46464636\n43323134\n46464646\n46464646\n30303130\n-10,49684,65535,65535,16\n"
    }
   ],
   "source": [
    "wysHeksString('30303130')\n",
    "#Stroom in milliAmpere\n",
    "print(a[-78:-70])\n",
    "#Spanning in milliVolt van hele battery\n",
    "print(a[-70:-62])\n",
    "#Oorblywende energie in battery\n",
    "print(a[-62:-54])\n",
    "# Totale energie in battery\n",
    "print(a[-50:-42])\n",
    "# Siklusse\n",
    "print(a[-42:-34])\n",
    "\n",
    "print(skryfLogLynBattery(a))"
   ]
  },
  {
   "cell_type": "code",
   "execution_count": null,
   "metadata": {},
   "outputs": [],
   "source": []
  },
  {
   "cell_type": "code",
   "execution_count": 126,
   "metadata": {
    "scrolled": true,
    "tags": []
   },
   "outputs": [
    {
     "output_type": "stream",
     "name": "stdout",
     "text": "46464636\nFFF6\n"
    }
   ],
   "source": [
    "# Voorbeeld string\n",
    "a='7e3230303134363030463037413131303130463043454630434631304346313043463130434631304346313043463030434631304345453043454630434630304346303043463130434631304346303035304245313042433330424333304243333042423946464636433231344646464630344646464630303130303131383634303132313130453144440d'\n",
    "print(a[-78:-70])\n",
    "getalinheks = bytearray.fromhex(a[-78:-70]).decode()\n",
    "print(getalinheks)"
   ]
  },
  {
   "cell_type": "code",
   "execution_count": 127,
   "metadata": {
    "scrolled": true
   },
   "outputs": [
    {
     "output_type": "error",
     "ename": "ModuleNotFoundError",
     "evalue": "No module named 'serial'",
     "traceback": [
      "\u001b[1;31m---------------------------------------------------------------------------\u001b[0m",
      "\u001b[1;31mModuleNotFoundError\u001b[0m                       Traceback (most recent call last)",
      "\u001b[1;32m<ipython-input-127-b709945b320e>\u001b[0m in \u001b[0;36m<module>\u001b[1;34m\u001b[0m\n\u001b[0;32m      2\u001b[0m \u001b[1;32mimport\u001b[0m \u001b[0mtime\u001b[0m\u001b[1;33m\u001b[0m\u001b[1;33m\u001b[0m\u001b[0m\n\u001b[0;32m      3\u001b[0m \u001b[1;32mfrom\u001b[0m \u001b[0mbinascii\u001b[0m \u001b[1;32mimport\u001b[0m \u001b[0munhexlify\u001b[0m\u001b[1;33m\u001b[0m\u001b[1;33m\u001b[0m\u001b[0m\n\u001b[1;32m----> 4\u001b[1;33m \u001b[1;32mimport\u001b[0m \u001b[0mserial\u001b[0m\u001b[1;33m\u001b[0m\u001b[1;33m\u001b[0m\u001b[0m\n\u001b[0m\u001b[0;32m      5\u001b[0m \u001b[1;33m\u001b[0m\u001b[0m\n\u001b[0;32m      6\u001b[0m \u001b[1;31m# Log parameters\u001b[0m\u001b[1;33m\u001b[0m\u001b[1;33m\u001b[0m\u001b[1;33m\u001b[0m\u001b[0m\n",
      "\u001b[1;31mModuleNotFoundError\u001b[0m: No module named 'serial'"
     ]
    }
   ],
   "source": [
    "import datetime\n",
    "import time\n",
    "from binascii import unhexlify\n",
    "import serial\n",
    "\n",
    "# Log parameters\n",
    "monsterfrekwensie = 30 # [sekondes]\n",
    "totalesekondes = 60*5 #24*60*60 # [sekondes]\n",
    "\n",
    "# Opdrag vanaf paragraaf 5 in seriepoort handleiding:  Lees analoog data\n",
    "bytestosend = '7E3230303134363432453030323031464433350D'\n",
    "\n",
    "begintyd = datetime.datetime.now()\n",
    "\n",
    "# Maak leer oop\n",
    "leer = open('PylonTech_' + str(datetime.date.today()) + '.log', 'w')\n",
    "leer.write('DatumTyd, Stroom mA_100, Spanning mV, Energie oor mAh, Totale energie mAh, Siklusse\\n')\n",
    "\n",
    "while (datetime.datetime.now() - begintyd).seconds < totalesekondes:\n",
    "    # Stuur data 1200 baud.  Dit moet eers teen hierdie spoed gestuur word\n",
    "    with serial.Serial('/dev/ttyUSB0', 1200, timeout=5.0) as ser:\n",
    "        x = ser.write(unhexlify(bytestosend)) # Stuur opdrag na die battery\n",
    "        uitstring = ser.read(1000)\n",
    "    \n",
    "    # Log data na leer\n",
    "    leer.write(str(datetime.datetime.now()) + ',' + skryfLogLynBattery(a))\n",
    "    leer.write('\\n')\n",
    "    time.sleep(monsterfrekwensie - 5)\n",
    "\n",
    "leer.close()\n"
   ]
  },
  {
   "cell_type": "code",
   "execution_count": 128,
   "metadata": {
    "tags": []
   },
   "outputs": [
    {
     "output_type": "stream",
     "name": "stdout",
     "text": "1\n"
    }
   ],
   "source": [
    "begintyd = datetime.datetime.now()\n",
    "time.sleep(1)\n",
    "totaletyd = datetime.datetime.now() - begintyd\n",
    "print(totaletyd.seconds)\n"
   ]
  },
  {
   "cell_type": "code",
   "execution_count": 129,
   "metadata": {},
   "outputs": [],
   "source": [
    "uitstringhex = \"7e3235303134363030323038363030303130463044393530443942304432363044394330444130304439443044393230443135304442343044393730443942304441323044423030444130304441353036304236343042354430423633304236303042383230423743303030304342353332373130303332373130303030343237313030303030353542413030303042323941453041440d\""
   ]
  },
  {
   "cell_type": "code",
   "execution_count": 130,
   "metadata": {},
   "outputs": [
    {
     "output_type": "execute_result",
     "data": {
      "text/plain": "3480"
     },
     "metadata": {},
     "execution_count": 130
    }
   ],
   "source": [
    "int('0D98',16)"
   ]
  },
  {
   "cell_type": "code",
   "execution_count": 131,
   "metadata": {
    "tags": []
   },
   "outputs": [
    {
     "output_type": "execute_result",
     "data": {
      "text/plain": "                   veranderlike  beginbyte  bytelengte\n0                  beginvandata          1           1\n1                      weergawe          2           2\n2                  batteryadres          4           2\n3                   batterytipe          6           2\n4                       analoog          8           2\n5             lengtevanantwoord         10           4\n6                      datainfo         14           2\n7              batterypaknommer         16           2\n8            aantalbatteryselle         18           2\n9                         sel1V         20           4\n10                        sel2V         24           4\n11                        sel3V         28           4\n12                        sel4V         32           4\n13                        sel5V         36           4\n14                        sel6V         40           4\n15                        sel7V         44           4\n16                        sel8V         48           4\n17                        sel9V         52           4\n18                       sel10V         56           4\n19                       sel11V         60           4\n20                       sel12V         64           4\n21                       sel13V         68           4\n22                       sel14V         72           4\n23                       sel15V         76           4\n24            aantaltempmetings         80           2\n25                        temp1         82           4\n26                        temp2         86           4\n27                        temp3         90           4\n28                        temp4         94           4\n29                        temp5         98           4\n30                        temp6        102           4\n31             batterypakstroom        106           4\n32        batterypaktotalevolts        110           4\n33        oorblywendekapasiteit        114           4\n34           userdefinednumberp        118           2\n35     batterpakvollekapasiteit        120           4\n36      aantalontladingsiklusse        124           4\n37  batterypakontwerpkapasiteit        128           4\n38                         oop1        132           4\n39                         oop2        136           4\n40                         oop3        140           4\n41                         oop4        144           4\n42                       chksum        148           4\n43                  eindvandata        152           1",
      "text/html": "<div>\n<style scoped>\n    .dataframe tbody tr th:only-of-type {\n        vertical-align: middle;\n    }\n\n    .dataframe tbody tr th {\n        vertical-align: top;\n    }\n\n    .dataframe thead th {\n        text-align: right;\n    }\n</style>\n<table border=\"1\" class=\"dataframe\">\n  <thead>\n    <tr style=\"text-align: right;\">\n      <th></th>\n      <th>veranderlike</th>\n      <th>beginbyte</th>\n      <th>bytelengte</th>\n    </tr>\n  </thead>\n  <tbody>\n    <tr>\n      <th>0</th>\n      <td>beginvandata</td>\n      <td>1</td>\n      <td>1</td>\n    </tr>\n    <tr>\n      <th>1</th>\n      <td>weergawe</td>\n      <td>2</td>\n      <td>2</td>\n    </tr>\n    <tr>\n      <th>2</th>\n      <td>batteryadres</td>\n      <td>4</td>\n      <td>2</td>\n    </tr>\n    <tr>\n      <th>3</th>\n      <td>batterytipe</td>\n      <td>6</td>\n      <td>2</td>\n    </tr>\n    <tr>\n      <th>4</th>\n      <td>analoog</td>\n      <td>8</td>\n      <td>2</td>\n    </tr>\n    <tr>\n      <th>5</th>\n      <td>lengtevanantwoord</td>\n      <td>10</td>\n      <td>4</td>\n    </tr>\n    <tr>\n      <th>6</th>\n      <td>datainfo</td>\n      <td>14</td>\n      <td>2</td>\n    </tr>\n    <tr>\n      <th>7</th>\n      <td>batterypaknommer</td>\n      <td>16</td>\n      <td>2</td>\n    </tr>\n    <tr>\n      <th>8</th>\n      <td>aantalbatteryselle</td>\n      <td>18</td>\n      <td>2</td>\n    </tr>\n    <tr>\n      <th>9</th>\n      <td>sel1V</td>\n      <td>20</td>\n      <td>4</td>\n    </tr>\n    <tr>\n      <th>10</th>\n      <td>sel2V</td>\n      <td>24</td>\n      <td>4</td>\n    </tr>\n    <tr>\n      <th>11</th>\n      <td>sel3V</td>\n      <td>28</td>\n      <td>4</td>\n    </tr>\n    <tr>\n      <th>12</th>\n      <td>sel4V</td>\n      <td>32</td>\n      <td>4</td>\n    </tr>\n    <tr>\n      <th>13</th>\n      <td>sel5V</td>\n      <td>36</td>\n      <td>4</td>\n    </tr>\n    <tr>\n      <th>14</th>\n      <td>sel6V</td>\n      <td>40</td>\n      <td>4</td>\n    </tr>\n    <tr>\n      <th>15</th>\n      <td>sel7V</td>\n      <td>44</td>\n      <td>4</td>\n    </tr>\n    <tr>\n      <th>16</th>\n      <td>sel8V</td>\n      <td>48</td>\n      <td>4</td>\n    </tr>\n    <tr>\n      <th>17</th>\n      <td>sel9V</td>\n      <td>52</td>\n      <td>4</td>\n    </tr>\n    <tr>\n      <th>18</th>\n      <td>sel10V</td>\n      <td>56</td>\n      <td>4</td>\n    </tr>\n    <tr>\n      <th>19</th>\n      <td>sel11V</td>\n      <td>60</td>\n      <td>4</td>\n    </tr>\n    <tr>\n      <th>20</th>\n      <td>sel12V</td>\n      <td>64</td>\n      <td>4</td>\n    </tr>\n    <tr>\n      <th>21</th>\n      <td>sel13V</td>\n      <td>68</td>\n      <td>4</td>\n    </tr>\n    <tr>\n      <th>22</th>\n      <td>sel14V</td>\n      <td>72</td>\n      <td>4</td>\n    </tr>\n    <tr>\n      <th>23</th>\n      <td>sel15V</td>\n      <td>76</td>\n      <td>4</td>\n    </tr>\n    <tr>\n      <th>24</th>\n      <td>aantaltempmetings</td>\n      <td>80</td>\n      <td>2</td>\n    </tr>\n    <tr>\n      <th>25</th>\n      <td>temp1</td>\n      <td>82</td>\n      <td>4</td>\n    </tr>\n    <tr>\n      <th>26</th>\n      <td>temp2</td>\n      <td>86</td>\n      <td>4</td>\n    </tr>\n    <tr>\n      <th>27</th>\n      <td>temp3</td>\n      <td>90</td>\n      <td>4</td>\n    </tr>\n    <tr>\n      <th>28</th>\n      <td>temp4</td>\n      <td>94</td>\n      <td>4</td>\n    </tr>\n    <tr>\n      <th>29</th>\n      <td>temp5</td>\n      <td>98</td>\n      <td>4</td>\n    </tr>\n    <tr>\n      <th>30</th>\n      <td>temp6</td>\n      <td>102</td>\n      <td>4</td>\n    </tr>\n    <tr>\n      <th>31</th>\n      <td>batterypakstroom</td>\n      <td>106</td>\n      <td>4</td>\n    </tr>\n    <tr>\n      <th>32</th>\n      <td>batterypaktotalevolts</td>\n      <td>110</td>\n      <td>4</td>\n    </tr>\n    <tr>\n      <th>33</th>\n      <td>oorblywendekapasiteit</td>\n      <td>114</td>\n      <td>4</td>\n    </tr>\n    <tr>\n      <th>34</th>\n      <td>userdefinednumberp</td>\n      <td>118</td>\n      <td>2</td>\n    </tr>\n    <tr>\n      <th>35</th>\n      <td>batterpakvollekapasiteit</td>\n      <td>120</td>\n      <td>4</td>\n    </tr>\n    <tr>\n      <th>36</th>\n      <td>aantalontladingsiklusse</td>\n      <td>124</td>\n      <td>4</td>\n    </tr>\n    <tr>\n      <th>37</th>\n      <td>batterypakontwerpkapasiteit</td>\n      <td>128</td>\n      <td>4</td>\n    </tr>\n    <tr>\n      <th>38</th>\n      <td>oop1</td>\n      <td>132</td>\n      <td>4</td>\n    </tr>\n    <tr>\n      <th>39</th>\n      <td>oop2</td>\n      <td>136</td>\n      <td>4</td>\n    </tr>\n    <tr>\n      <th>40</th>\n      <td>oop3</td>\n      <td>140</td>\n      <td>4</td>\n    </tr>\n    <tr>\n      <th>41</th>\n      <td>oop4</td>\n      <td>144</td>\n      <td>4</td>\n    </tr>\n    <tr>\n      <th>42</th>\n      <td>chksum</td>\n      <td>148</td>\n      <td>4</td>\n    </tr>\n    <tr>\n      <th>43</th>\n      <td>eindvandata</td>\n      <td>152</td>\n      <td>1</td>\n    </tr>\n  </tbody>\n</table>\n</div>"
     },
     "metadata": {},
     "execution_count": 131
    }
   ],
   "source": [
    "import pandas as pd\n",
    "from binascii import unhexlify\n",
    "\n",
    "bytebreakdown=pd.read_csv(\"bytebreakdownTSPbat.csv\")\n",
    "\n",
    "# Haal veranderlike uit die hex string en return decimal\n",
    "def haalveranderlikeuithex(uitstringhex,bytenommer,bytelengte):\n",
    "    veranderlike=unhexlify(uitstringhex[(2*bytenommer)-2:(bytenommer*2)+(bytelengte*2)-2])\n",
    "    return veranderlike\n",
    "\n",
    "bytebreakdown"
   ]
  },
  {
   "cell_type": "code",
   "execution_count": 132,
   "metadata": {},
   "outputs": [],
   "source": [
    "\n",
    "for ind, row in bytebreakdown.iterrows():\n",
    "    try:\n",
    "        bytebreakdown.loc[ind,'result'] = int(haalveranderlikeuithex(uitstringhex,row['beginbyte'],row['bytelengte']).decode(\"utf-8\"),16)\n",
    "    except:\n",
    "        bytebreakdown.loc[ind,'result'] = haalveranderlikeuithex(uitstringhex,row['beginbyte'],row['bytelengte']).decode(\"utf-8\")"
   ]
  },
  {
   "cell_type": "code",
   "execution_count": 140,
   "metadata": {
    "tags": []
   },
   "outputs": [
    {
     "output_type": "execute_result",
     "data": {
      "text/plain": "                   veranderlike result\n0                  beginvandata      ~\n1                      weergawe     37\n2                  batteryadres      1\n3                   batterytipe     70\n4                       analoog      0\n5             lengtevanantwoord   8326\n6                      datainfo      0\n7              batterypaknommer      1\n8            aantalbatteryselle     15\n9                         sel1V   3477\n10                        sel2V   3483\n11                        sel3V   3366\n12                        sel4V   3484\n13                        sel5V   3488\n14                        sel6V   3485\n15                        sel7V   3474\n16                        sel8V   3349\n17                        sel9V   3508\n18                       sel10V   3479\n19                       sel11V   3483\n20                       sel12V   3490\n21                       sel13V   3504\n22                       sel14V   3488\n23                       sel15V   3493\n24            aantaltempmetings      6\n25                        temp1   2916\n26                        temp2   2909\n27                        temp3   2915\n28                        temp4   2912\n29                        temp5   2946\n30                        temp6   2940\n31             batterypakstroom      0\n32        batterypaktotalevolts  52051\n33        oorblywendekapasiteit  10000\n34           userdefinednumberp      3\n35     batterpakvollekapasiteit  10000\n36      aantalontladingsiklusse      4\n37  batterypakontwerpkapasiteit  10000\n38                         oop1      0\n39                         oop2  21946\n40                         oop3      0\n41                         oop4  45722\n42                       chksum  57517\n43                  eindvandata     \\r",
      "text/html": "<div>\n<style scoped>\n    .dataframe tbody tr th:only-of-type {\n        vertical-align: middle;\n    }\n\n    .dataframe tbody tr th {\n        vertical-align: top;\n    }\n\n    .dataframe thead th {\n        text-align: right;\n    }\n</style>\n<table border=\"1\" class=\"dataframe\">\n  <thead>\n    <tr style=\"text-align: right;\">\n      <th></th>\n      <th>veranderlike</th>\n      <th>result</th>\n    </tr>\n  </thead>\n  <tbody>\n    <tr>\n      <th>0</th>\n      <td>beginvandata</td>\n      <td>~</td>\n    </tr>\n    <tr>\n      <th>1</th>\n      <td>weergawe</td>\n      <td>37</td>\n    </tr>\n    <tr>\n      <th>2</th>\n      <td>batteryadres</td>\n      <td>1</td>\n    </tr>\n    <tr>\n      <th>3</th>\n      <td>batterytipe</td>\n      <td>70</td>\n    </tr>\n    <tr>\n      <th>4</th>\n      <td>analoog</td>\n      <td>0</td>\n    </tr>\n    <tr>\n      <th>5</th>\n      <td>lengtevanantwoord</td>\n      <td>8326</td>\n    </tr>\n    <tr>\n      <th>6</th>\n      <td>datainfo</td>\n      <td>0</td>\n    </tr>\n    <tr>\n      <th>7</th>\n      <td>batterypaknommer</td>\n      <td>1</td>\n    </tr>\n    <tr>\n      <th>8</th>\n      <td>aantalbatteryselle</td>\n      <td>15</td>\n    </tr>\n    <tr>\n      <th>9</th>\n      <td>sel1V</td>\n      <td>3477</td>\n    </tr>\n    <tr>\n      <th>10</th>\n      <td>sel2V</td>\n      <td>3483</td>\n    </tr>\n    <tr>\n      <th>11</th>\n      <td>sel3V</td>\n      <td>3366</td>\n    </tr>\n    <tr>\n      <th>12</th>\n      <td>sel4V</td>\n      <td>3484</td>\n    </tr>\n    <tr>\n      <th>13</th>\n      <td>sel5V</td>\n      <td>3488</td>\n    </tr>\n    <tr>\n      <th>14</th>\n      <td>sel6V</td>\n      <td>3485</td>\n    </tr>\n    <tr>\n      <th>15</th>\n      <td>sel7V</td>\n      <td>3474</td>\n    </tr>\n    <tr>\n      <th>16</th>\n      <td>sel8V</td>\n      <td>3349</td>\n    </tr>\n    <tr>\n      <th>17</th>\n      <td>sel9V</td>\n      <td>3508</td>\n    </tr>\n    <tr>\n      <th>18</th>\n      <td>sel10V</td>\n      <td>3479</td>\n    </tr>\n    <tr>\n      <th>19</th>\n      <td>sel11V</td>\n      <td>3483</td>\n    </tr>\n    <tr>\n      <th>20</th>\n      <td>sel12V</td>\n      <td>3490</td>\n    </tr>\n    <tr>\n      <th>21</th>\n      <td>sel13V</td>\n      <td>3504</td>\n    </tr>\n    <tr>\n      <th>22</th>\n      <td>sel14V</td>\n      <td>3488</td>\n    </tr>\n    <tr>\n      <th>23</th>\n      <td>sel15V</td>\n      <td>3493</td>\n    </tr>\n    <tr>\n      <th>24</th>\n      <td>aantaltempmetings</td>\n      <td>6</td>\n    </tr>\n    <tr>\n      <th>25</th>\n      <td>temp1</td>\n      <td>2916</td>\n    </tr>\n    <tr>\n      <th>26</th>\n      <td>temp2</td>\n      <td>2909</td>\n    </tr>\n    <tr>\n      <th>27</th>\n      <td>temp3</td>\n      <td>2915</td>\n    </tr>\n    <tr>\n      <th>28</th>\n      <td>temp4</td>\n      <td>2912</td>\n    </tr>\n    <tr>\n      <th>29</th>\n      <td>temp5</td>\n      <td>2946</td>\n    </tr>\n    <tr>\n      <th>30</th>\n      <td>temp6</td>\n      <td>2940</td>\n    </tr>\n    <tr>\n      <th>31</th>\n      <td>batterypakstroom</td>\n      <td>0</td>\n    </tr>\n    <tr>\n      <th>32</th>\n      <td>batterypaktotalevolts</td>\n      <td>52051</td>\n    </tr>\n    <tr>\n      <th>33</th>\n      <td>oorblywendekapasiteit</td>\n      <td>10000</td>\n    </tr>\n    <tr>\n      <th>34</th>\n      <td>userdefinednumberp</td>\n      <td>3</td>\n    </tr>\n    <tr>\n      <th>35</th>\n      <td>batterpakvollekapasiteit</td>\n      <td>10000</td>\n    </tr>\n    <tr>\n      <th>36</th>\n      <td>aantalontladingsiklusse</td>\n      <td>4</td>\n    </tr>\n    <tr>\n      <th>37</th>\n      <td>batterypakontwerpkapasiteit</td>\n      <td>10000</td>\n    </tr>\n    <tr>\n      <th>38</th>\n      <td>oop1</td>\n      <td>0</td>\n    </tr>\n    <tr>\n      <th>39</th>\n      <td>oop2</td>\n      <td>21946</td>\n    </tr>\n    <tr>\n      <th>40</th>\n      <td>oop3</td>\n      <td>0</td>\n    </tr>\n    <tr>\n      <th>41</th>\n      <td>oop4</td>\n      <td>45722</td>\n    </tr>\n    <tr>\n      <th>42</th>\n      <td>chksum</td>\n      <td>57517</td>\n    </tr>\n    <tr>\n      <th>43</th>\n      <td>eindvandata</td>\n      <td>\\r</td>\n    </tr>\n  </tbody>\n</table>\n</div>"
     },
     "metadata": {},
     "execution_count": 140
    }
   ],
   "source": [
    "postdf=bytebreakdown.drop(['beginbyte','bytelengte'],axis =1)\n",
    "\n",
    "\n",
    "postdf"
   ]
  },
  {
   "cell_type": "code",
   "execution_count": null,
   "metadata": {},
   "outputs": [],
   "source": []
  }
 ],
 "metadata": {
  "hide_input": false,
  "kernelspec": {
   "display_name": "Python 3.8.5 64-bit",
   "language": "python",
   "name": "python38564bitfc2a023d93484d339344e823076b2f65"
  },
  "language_info": {
   "codemirror_mode": {
    "name": "ipython",
    "version": 3
   },
   "file_extension": ".py",
   "mimetype": "text/x-python",
   "name": "python",
   "nbconvert_exporter": "python",
   "pygments_lexer": "ipython3",
   "version": "3.8.5-final"
  },
  "toc": {
   "base_numbering": 1,
   "nav_menu": {},
   "number_sections": true,
   "sideBar": true,
   "skip_h1_title": false,
   "title_cell": "Table of Contents",
   "title_sidebar": "Contents",
   "toc_cell": false,
   "toc_position": {},
   "toc_section_display": true,
   "toc_window_display": false
  },
  "varInspector": {
   "cols": {
    "lenName": 16,
    "lenType": 16,
    "lenVar": 40
   },
   "kernels_config": {
    "python": {
     "delete_cmd_postfix": "",
     "delete_cmd_prefix": "del ",
     "library": "var_list.py",
     "varRefreshCmd": "print(var_dic_list())"
    },
    "r": {
     "delete_cmd_postfix": ") ",
     "delete_cmd_prefix": "rm(",
     "library": "var_list.r",
     "varRefreshCmd": "cat(var_dic_list()) "
    }
   },
   "types_to_exclude": [
    "module",
    "function",
    "builtin_function_or_method",
    "instance",
    "_Feature"
   ],
   "window_display": false
  }
 },
 "nbformat": 4,
 "nbformat_minor": 2
}